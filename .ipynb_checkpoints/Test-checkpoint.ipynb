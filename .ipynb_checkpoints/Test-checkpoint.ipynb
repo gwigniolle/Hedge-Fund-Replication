{
 "cells": [
  {
   "cell_type": "code",
   "execution_count": 25,
   "metadata": {},
   "outputs": [],
   "source": [
    "import pandas as pd\n",
    "import numpy as np\n",
    "%matplotlib inline\n",
    "import seaborn as sns\n",
    "sns.set()"
   ]
  },
  {
   "cell_type": "code",
   "execution_count": 6,
   "metadata": {},
   "outputs": [],
   "source": [
    "%load_ext autoreload\n",
    "%autoreload 2"
   ]
  },
  {
   "cell_type": "code",
   "execution_count": 2,
   "metadata": {},
   "outputs": [],
   "source": [
    "from tools import make_track"
   ]
  },
  {
   "cell_type": "code",
   "execution_count": 27,
   "metadata": {},
   "outputs": [
    {
     "data": {
      "text/html": [
       "<div>\n",
       "<style>\n",
       "    .dataframe thead tr:only-child th {\n",
       "        text-align: right;\n",
       "    }\n",
       "\n",
       "    .dataframe thead th {\n",
       "        text-align: left;\n",
       "    }\n",
       "\n",
       "    .dataframe tbody tr th {\n",
       "        vertical-align: top;\n",
       "    }\n",
       "</style>\n",
       "<table border=\"1\" class=\"dataframe\">\n",
       "  <thead>\n",
       "    <tr style=\"text-align: right;\">\n",
       "      <th></th>\n",
       "      <th>AAPL</th>\n",
       "      <th>GOOGL</th>\n",
       "      <th>MSFT</th>\n",
       "      <th>SPY</th>\n",
       "    </tr>\n",
       "  </thead>\n",
       "  <tbody>\n",
       "    <tr>\n",
       "      <th>2016-11-09</th>\n",
       "      <td>110.88</td>\n",
       "      <td>805.59</td>\n",
       "      <td>60.17</td>\n",
       "      <td>216.38</td>\n",
       "    </tr>\n",
       "    <tr>\n",
       "      <th>2016-11-10</th>\n",
       "      <td>107.79</td>\n",
       "      <td>780.29</td>\n",
       "      <td>58.70</td>\n",
       "      <td>216.92</td>\n",
       "    </tr>\n",
       "    <tr>\n",
       "      <th>2016-11-11</th>\n",
       "      <td>108.43</td>\n",
       "      <td>771.75</td>\n",
       "      <td>59.02</td>\n",
       "      <td>216.42</td>\n",
       "    </tr>\n",
       "    <tr>\n",
       "      <th>2016-11-14</th>\n",
       "      <td>105.71</td>\n",
       "      <td>753.22</td>\n",
       "      <td>58.12</td>\n",
       "      <td>216.59</td>\n",
       "    </tr>\n",
       "    <tr>\n",
       "      <th>2016-11-15</th>\n",
       "      <td>107.11</td>\n",
       "      <td>775.16</td>\n",
       "      <td>58.87</td>\n",
       "      <td>218.28</td>\n",
       "    </tr>\n",
       "  </tbody>\n",
       "</table>\n",
       "</div>"
      ],
      "text/plain": [
       "              AAPL   GOOGL   MSFT     SPY\n",
       "2016-11-09  110.88  805.59  60.17  216.38\n",
       "2016-11-10  107.79  780.29  58.70  216.92\n",
       "2016-11-11  108.43  771.75  59.02  216.42\n",
       "2016-11-14  105.71  753.22  58.12  216.59\n",
       "2016-11-15  107.11  775.16  58.87  218.28"
      ]
     },
     "execution_count": 27,
     "metadata": {},
     "output_type": "execute_result"
    }
   ],
   "source": [
    "prices = pd.read_csv(r\"financial_data/prices.csv\",index_col=0)\n",
    "prices.index = pd.DatetimeIndex(prices.index)\n",
    "prices.head()"
   ]
  },
  {
   "cell_type": "code",
   "execution_count": 37,
   "metadata": {},
   "outputs": [
    {
     "data": {
      "text/plain": [
       "24"
      ]
     },
     "execution_count": 37,
     "metadata": {},
     "output_type": "execute_result"
    }
   ],
   "source": [
    "len(index)//10"
   ]
  },
  {
   "cell_type": "code",
   "execution_count": 39,
   "metadata": {},
   "outputs": [
    {
     "data": {
      "text/html": [
       "<div>\n",
       "<style>\n",
       "    .dataframe thead tr:only-child th {\n",
       "        text-align: right;\n",
       "    }\n",
       "\n",
       "    .dataframe thead th {\n",
       "        text-align: left;\n",
       "    }\n",
       "\n",
       "    .dataframe tbody tr th {\n",
       "        vertical-align: top;\n",
       "    }\n",
       "</style>\n",
       "<table border=\"1\" class=\"dataframe\">\n",
       "  <thead>\n",
       "    <tr style=\"text-align: right;\">\n",
       "      <th></th>\n",
       "      <th>AAPL</th>\n",
       "      <th>GOOGL</th>\n",
       "      <th>MSFT</th>\n",
       "      <th>SPY</th>\n",
       "    </tr>\n",
       "  </thead>\n",
       "  <tbody>\n",
       "    <tr>\n",
       "      <th>2016-11-09</th>\n",
       "      <td>110.88</td>\n",
       "      <td>805.59</td>\n",
       "      <td>60.17</td>\n",
       "      <td>216.38</td>\n",
       "    </tr>\n",
       "    <tr>\n",
       "      <th>2016-12-14</th>\n",
       "      <td>115.19</td>\n",
       "      <td>817.89</td>\n",
       "      <td>62.68</td>\n",
       "      <td>225.88</td>\n",
       "    </tr>\n",
       "    <tr>\n",
       "      <th>2017-01-20</th>\n",
       "      <td>120.00</td>\n",
       "      <td>828.17</td>\n",
       "      <td>62.74</td>\n",
       "      <td>226.74</td>\n",
       "    </tr>\n",
       "    <tr>\n",
       "      <th>2017-02-24</th>\n",
       "      <td>136.66</td>\n",
       "      <td>847.81</td>\n",
       "      <td>64.62</td>\n",
       "      <td>236.74</td>\n",
       "    </tr>\n",
       "    <tr>\n",
       "      <th>2017-03-30</th>\n",
       "      <td>143.93</td>\n",
       "      <td>849.48</td>\n",
       "      <td>65.71</td>\n",
       "      <td>236.29</td>\n",
       "    </tr>\n",
       "    <tr>\n",
       "      <th>2017-05-04</th>\n",
       "      <td>146.53</td>\n",
       "      <td>954.72</td>\n",
       "      <td>68.81</td>\n",
       "      <td>238.76</td>\n",
       "    </tr>\n",
       "    <tr>\n",
       "      <th>2017-06-08</th>\n",
       "      <td>154.99</td>\n",
       "      <td>1004.28</td>\n",
       "      <td>71.95</td>\n",
       "      <td>243.78</td>\n",
       "    </tr>\n",
       "    <tr>\n",
       "      <th>2017-07-13</th>\n",
       "      <td>147.77</td>\n",
       "      <td>968.85</td>\n",
       "      <td>71.77</td>\n",
       "      <td>244.42</td>\n",
       "    </tr>\n",
       "    <tr>\n",
       "      <th>2017-08-16</th>\n",
       "      <td>160.95</td>\n",
       "      <td>944.27</td>\n",
       "      <td>73.65</td>\n",
       "      <td>246.94</td>\n",
       "    </tr>\n",
       "    <tr>\n",
       "      <th>2017-09-20</th>\n",
       "      <td>156.07</td>\n",
       "      <td>947.54</td>\n",
       "      <td>74.94</td>\n",
       "      <td>250.06</td>\n",
       "    </tr>\n",
       "    <tr>\n",
       "      <th>2017-10-24</th>\n",
       "      <td>157.10</td>\n",
       "      <td>988.49</td>\n",
       "      <td>78.86</td>\n",
       "      <td>256.56</td>\n",
       "    </tr>\n",
       "  </tbody>\n",
       "</table>\n",
       "</div>"
      ],
      "text/plain": [
       "              AAPL    GOOGL   MSFT     SPY\n",
       "2016-11-09  110.88   805.59  60.17  216.38\n",
       "2016-12-14  115.19   817.89  62.68  225.88\n",
       "2017-01-20  120.00   828.17  62.74  226.74\n",
       "2017-02-24  136.66   847.81  64.62  236.74\n",
       "2017-03-30  143.93   849.48  65.71  236.29\n",
       "2017-05-04  146.53   954.72  68.81  238.76\n",
       "2017-06-08  154.99  1004.28  71.95  243.78\n",
       "2017-07-13  147.77   968.85  71.77  244.42\n",
       "2017-08-16  160.95   944.27  73.65  246.94\n",
       "2017-09-20  156.07   947.54  74.94  250.06\n",
       "2017-10-24  157.10   988.49  78.86  256.56"
      ]
     },
     "execution_count": 39,
     "metadata": {},
     "output_type": "execute_result"
    }
   ],
   "source": [
    "index = prices.index\n",
    "reweight_index = index[::(len(index)//10)]\n",
    "weights = np.random()\n",
    "df_weight = \n",
    "df_weight"
   ]
  },
  {
   "cell_type": "code",
   "execution_count": 26,
   "metadata": {},
   "outputs": [
    {
     "data": {
      "text/plain": [
       "<matplotlib.axes._subplots.AxesSubplot at 0x10a4eedd8>"
      ]
     },
     "execution_count": 26,
     "metadata": {},
     "output_type": "execute_result"
    },
    {
     "data": {
      "image/png": "[encoded data removed]",
      "text/plain": [
       "<matplotlib.figure.Figure at 0x1076195f8>"
      ]
     },
     "metadata": {},
     "output_type": "display_data"
    }
   ],
   "source": [
    "test = make_track(tracks, df_weight)\n",
    "test.plot()"
   ]
  },
  {
   "cell_type": "code",
   "execution_count": null,
   "metadata": {},
   "outputs": [],
   "source": []
  }
 ],
 "metadata": {
  "kernelspec": {
   "display_name": "Python 3",
   "language": "python",
   "name": "python3"
  },
  "language_info": {
   "codemirror_mode": {
    "name": "ipython",
    "version": 3
   },
   "file_extension": ".py",
   "mimetype": "text/x-python",
   "name": "python",
   "nbconvert_exporter": "python",
   "pygments_lexer": "ipython3",
   "version": "3.5.0"
  }
 },
 "nbformat": 4,
 "nbformat_minor": 2
}
