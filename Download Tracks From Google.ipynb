{
 "cells": [
  {
   "cell_type": "code",
   "execution_count": 67,
   "metadata": {},
   "outputs": [],
   "source": [
    "from pandas_datareader import data\n",
    "import pandas as pd"
   ]
  },
  {
   "cell_type": "code",
   "execution_count": 68,
   "metadata": {},
   "outputs": [],
   "source": [
    "def download_from_google(tickers, start_date, end_date):\n",
    "    \n",
    "    data_source = 'google'\n",
    "    start_date = '2010-01-01'\n",
    "    end_date = '2016-12-31'\n",
    "    panel_data = data.DataReader(tickers, data_source, start_date, end_date)\n",
    "    close = panel_data.loc['Close']\n",
    "\n",
    "    all_weekdays = pd.date_range(start=start_date, end=end_date, freq='B')\n",
    "    close = close.reindex(all_weekdays)\n",
    "    return close"
   ]
  },
  {
   "cell_type": "code",
   "execution_count": 69,
   "metadata": {},
   "outputs": [],
   "source": [
    "# Define which online source one should use\n",
    "data_source = 'google'\n",
    "\n",
    "# We would like all available data from 01/01/2000 until 12/31/2016.\n",
    "start_date = '2010-01-01'\n",
    "end_date = '2016-12-31'"
   ]
  },
  {
   "cell_type": "code",
   "execution_count": 72,
   "metadata": {},
   "outputs": [],
   "source": [
    "tickers = ['MSFT',\"GOOGL\",\"AAPL\", \"SPY\"]\n",
    "\n",
    "tracks = download_from_google(tickers, start_date, end_date)\n",
    "tracks = tracks.dropna()\n",
    "tracks.to_csv(r\"financial_data/test.csv\")"
   ]
  },
  {
   "cell_type": "code",
   "execution_count": null,
   "metadata": {},
   "outputs": [],
   "source": []
  }
 ],
 "metadata": {
  "kernelspec": {
   "display_name": "Python 3",
   "language": "python",
   "name": "python3"
  },
  "language_info": {
   "codemirror_mode": {
    "name": "ipython",
    "version": 3
   },
   "file_extension": ".py",
   "mimetype": "text/x-python",
   "name": "python",
   "nbconvert_exporter": "python",
   "pygments_lexer": "ipython3",
   "version": "3.5.0"
  }
 },
 "nbformat": 4,
 "nbformat_minor": 2
}
