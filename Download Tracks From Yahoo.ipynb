{
 "cells": [
  {
   "cell_type": "code",
   "execution_count": 5,
   "metadata": {},
   "outputs": [],
   "source": [
    "from pandas_datareader import data\n",
    "import pandas as pd\n",
    "import datetime as dt"
   ]
  },
  {
   "cell_type": "code",
   "execution_count": 6,
   "metadata": {},
   "outputs": [],
   "source": [
    "def download_from_google(tickers, start_date, end_date):\n",
    "    \n",
    "    data_source = 'yahoo'\n",
    "    panel_data = data.DataReader(tickers, data_source, start_date, end_date)\n",
    "    close = panel_data.loc['Close']\n",
    "\n",
    "    all_weekdays = pd.date_range(start=start_date, end=end_date, freq='B')\n",
    "    close = close.reindex(all_weekdays)\n",
    "    return close"
   ]
  },
  {
   "cell_type": "code",
   "execution_count": 7,
   "metadata": {},
   "outputs": [
    {
     "data": {
      "text/html": [
       "<div>\n",
       "<style>\n",
       "    .dataframe thead tr:only-child th {\n",
       "        text-align: right;\n",
       "    }\n",
       "\n",
       "    .dataframe thead th {\n",
       "        text-align: left;\n",
       "    }\n",
       "\n",
       "    .dataframe tbody tr th {\n",
       "        vertical-align: top;\n",
       "    }\n",
       "</style>\n",
       "<table border=\"1\" class=\"dataframe\">\n",
       "  <thead>\n",
       "    <tr style=\"text-align: right;\">\n",
       "      <th></th>\n",
       "      <th>Ticker</th>\n",
       "      <th>Yahoo</th>\n",
       "    </tr>\n",
       "  </thead>\n",
       "  <tbody>\n",
       "    <tr>\n",
       "      <th>0</th>\n",
       "      <td>IBEX</td>\n",
       "      <td>^IBEX</td>\n",
       "    </tr>\n",
       "    <tr>\n",
       "      <th>1</th>\n",
       "      <td>DAX</td>\n",
       "      <td>^GDAXI</td>\n",
       "    </tr>\n",
       "    <tr>\n",
       "      <th>2</th>\n",
       "      <td>FSTEMIB</td>\n",
       "      <td>FTSEMIB.MI</td>\n",
       "    </tr>\n",
       "    <tr>\n",
       "      <th>3</th>\n",
       "      <td>CAC 40</td>\n",
       "      <td>^FCHI</td>\n",
       "    </tr>\n",
       "    <tr>\n",
       "      <th>4</th>\n",
       "      <td>SX5E</td>\n",
       "      <td>^STOXX50E</td>\n",
       "    </tr>\n",
       "  </tbody>\n",
       "</table>\n",
       "</div>"
      ],
      "text/plain": [
       "    Ticker       Yahoo\n",
       "0     IBEX       ^IBEX\n",
       "1      DAX      ^GDAXI\n",
       "2  FSTEMIB  FTSEMIB.MI\n",
       "3   CAC 40       ^FCHI\n",
       "4     SX5E   ^STOXX50E"
      ]
     },
     "execution_count": 7,
     "metadata": {},
     "output_type": "execute_result"
    }
   ],
   "source": [
    "df_tickers = pd.read_csv(r\"financial_data/tickers.csv\", sep=';')\n",
    "df_tickers"
   ]
  },
  {
   "cell_type": "code",
   "execution_count": 18,
   "metadata": {},
   "outputs": [
    {
     "data": {
      "text/html": [
       "<div>\n",
       "<style>\n",
       "    .dataframe thead tr:only-child th {\n",
       "        text-align: right;\n",
       "    }\n",
       "\n",
       "    .dataframe thead th {\n",
       "        text-align: left;\n",
       "    }\n",
       "\n",
       "    .dataframe tbody tr th {\n",
       "        vertical-align: top;\n",
       "    }\n",
       "</style>\n",
       "<table border=\"1\" class=\"dataframe\">\n",
       "  <thead>\n",
       "    <tr style=\"text-align: right;\">\n",
       "      <th></th>\n",
       "      <th>IBEX</th>\n",
       "      <th>DAX</th>\n",
       "      <th>FSTEMIB</th>\n",
       "      <th>CAC 40</th>\n",
       "      <th>SX5E</th>\n",
       "    </tr>\n",
       "  </thead>\n",
       "  <tbody>\n",
       "    <tr>\n",
       "      <th>2010-01-04</th>\n",
       "      <td>23545.000000</td>\n",
       "      <td>4013.969971</td>\n",
       "      <td>6048.299805</td>\n",
       "      <td>12145.099609</td>\n",
       "      <td>3017.800049</td>\n",
       "    </tr>\n",
       "    <tr>\n",
       "      <th>2010-01-05</th>\n",
       "      <td>23555.699219</td>\n",
       "      <td>4012.909912</td>\n",
       "      <td>6031.859863</td>\n",
       "      <td>12204.400391</td>\n",
       "      <td>3012.360107</td>\n",
       "    </tr>\n",
       "    <tr>\n",
       "      <th>2010-01-06</th>\n",
       "      <td>23622.300781</td>\n",
       "      <td>4017.669922</td>\n",
       "      <td>6034.330078</td>\n",
       "      <td>12222.500000</td>\n",
       "      <td>3009.659912</td>\n",
       "    </tr>\n",
       "    <tr>\n",
       "      <th>2010-01-07</th>\n",
       "      <td>23709.000000</td>\n",
       "      <td>4024.800049</td>\n",
       "      <td>6019.359863</td>\n",
       "      <td>12166.299805</td>\n",
       "      <td>3007.340088</td>\n",
       "    </tr>\n",
       "    <tr>\n",
       "      <th>2010-01-08</th>\n",
       "      <td>23811.099609</td>\n",
       "      <td>4045.139893</td>\n",
       "      <td>6037.609863</td>\n",
       "      <td>12163.000000</td>\n",
       "      <td>3017.850098</td>\n",
       "    </tr>\n",
       "  </tbody>\n",
       "</table>\n",
       "</div>"
      ],
      "text/plain": [
       "                    IBEX          DAX      FSTEMIB        CAC 40         SX5E\n",
       "2010-01-04  23545.000000  4013.969971  6048.299805  12145.099609  3017.800049\n",
       "2010-01-05  23555.699219  4012.909912  6031.859863  12204.400391  3012.360107\n",
       "2010-01-06  23622.300781  4017.669922  6034.330078  12222.500000  3009.659912\n",
       "2010-01-07  23709.000000  4024.800049  6019.359863  12166.299805  3007.340088\n",
       "2010-01-08  23811.099609  4045.139893  6037.609863  12163.000000  3017.850098"
      ]
     },
     "execution_count": 18,
     "metadata": {},
     "output_type": "execute_result"
    }
   ],
   "source": [
    "start_date = '2010-01-01'\n",
    "end_date = dt.datetime.now().strftime('%Y-%m-%d')\n",
    "\n",
    "yahoo_tickers = df_tickers[\"Yahoo\"].values\n",
    "\n",
    "tracks = download_from_google(yahoo_tickers, start_date, end_date)\n",
    "\n",
    "index = pd.date_range(start=dt.date(2010,1,1),end=dt.date.today(),freq='B')\n",
    "tracks = tracks.reindex(index=index).ffill()\n",
    "tracks = tracks.dropna()\n",
    "tracks.columns = df_tickers[\"Ticker\"].values\n",
    "tracks.head()"
   ]
  },
  {
   "cell_type": "code",
   "execution_count": 20,
   "metadata": {},
   "outputs": [],
   "source": [
    "tracks.to_csv(r\"financial_data/prices.csv\")"
   ]
  },
  {
   "cell_type": "code",
   "execution_count": null,
   "metadata": {},
   "outputs": [],
   "source": []
  }
 ],
 "metadata": {
  "kernelspec": {
   "display_name": "Python 3",
   "language": "python",
   "name": "python3"
  },
  "language_info": {
   "codemirror_mode": {
    "name": "ipython",
    "version": 3
   },
   "file_extension": ".py",
   "mimetype": "text/x-python",
   "name": "python",
   "nbconvert_exporter": "python",
   "pygments_lexer": "ipython3",
   "version": "3.5.0"
  }
 },
 "nbformat": 4,
 "nbformat_minor": 2
}
