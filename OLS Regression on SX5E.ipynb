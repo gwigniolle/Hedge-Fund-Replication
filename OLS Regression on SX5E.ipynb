{
 "cells": [
  {
   "cell_type": "code",
   "execution_count": 2,
   "metadata": {},
   "outputs": [],
   "source": [
    "%load_ext autoreload\n",
    "%autoreload 2\n",
    "% matplotlib inline"
   ]
  },
  {
   "cell_type": "code",
   "execution_count": 3,
   "metadata": {},
   "outputs": [],
   "source": [
    "import pandas as pd\n",
    "import seaborn as sns\n",
    "\n",
    "from tools import make_track, ols_regression\n",
    "sns.set()"
   ]
  },
  {
   "cell_type": "code",
   "execution_count": 4,
   "metadata": {},
   "outputs": [],
   "source": [
    "prices = pd.read_csv(r\"financial_data/yahoo_prices.csv\", index_col=0, parse_dates=True).drop(\"SP 500\", axis=1)\n",
    "returns = prices.resample(\"7D\").apply(lambda x:x[0]).pct_change().dropna()"
   ]
  },
  {
   "cell_type": "code",
   "execution_count": 5,
   "metadata": {},
   "outputs": [
    {
     "data": {
      "text/html": [
       "<div>\n",
       "<style>\n",
       "    .dataframe thead tr:only-child th {\n",
       "        text-align: right;\n",
       "    }\n",
       "\n",
       "    .dataframe thead th {\n",
       "        text-align: left;\n",
       "    }\n",
       "\n",
       "    .dataframe tbody tr th {\n",
       "        vertical-align: top;\n",
       "    }\n",
       "</style>\n",
       "<table border=\"1\" class=\"dataframe\">\n",
       "  <thead>\n",
       "    <tr style=\"text-align: right;\">\n",
       "      <th></th>\n",
       "      <th>FSTEMIB</th>\n",
       "      <th>CAC 40</th>\n",
       "      <th>DAX</th>\n",
       "      <th>IBEX</th>\n",
       "    </tr>\n",
       "  </thead>\n",
       "  <tbody>\n",
       "    <tr>\n",
       "      <th>2001-01-08</th>\n",
       "      <td>4.807258e-01</td>\n",
       "      <td>0.066135</td>\n",
       "      <td>2.689400e-01</td>\n",
       "      <td>0.184199</td>\n",
       "    </tr>\n",
       "    <tr>\n",
       "      <th>2001-04-09</th>\n",
       "      <td>5.974600e-01</td>\n",
       "      <td>0.154159</td>\n",
       "      <td>5.959202e-02</td>\n",
       "      <td>0.188789</td>\n",
       "    </tr>\n",
       "    <tr>\n",
       "      <th>2001-07-09</th>\n",
       "      <td>6.243168e-01</td>\n",
       "      <td>0.241675</td>\n",
       "      <td>0.000000e+00</td>\n",
       "      <td>0.134008</td>\n",
       "    </tr>\n",
       "    <tr>\n",
       "      <th>2001-10-08</th>\n",
       "      <td>0.000000e+00</td>\n",
       "      <td>0.717226</td>\n",
       "      <td>1.106196e-16</td>\n",
       "      <td>0.282774</td>\n",
       "    </tr>\n",
       "    <tr>\n",
       "      <th>2002-01-07</th>\n",
       "      <td>1.387779e-17</td>\n",
       "      <td>0.672562</td>\n",
       "      <td>1.985007e-16</td>\n",
       "      <td>0.327438</td>\n",
       "    </tr>\n",
       "  </tbody>\n",
       "</table>\n",
       "</div>"
      ],
      "text/plain": [
       "<div>\n",
       "<style>\n",
       "    .dataframe thead tr:only-child th {\n",
       "        text-align: right;\n",
       "    }\n",
       "\n",
       "    .dataframe thead th {\n",
       "        text-align: left;\n",
       "    }\n",
       "\n",
       "    .dataframe tbody tr th {\n",
       "        vertical-align: top;\n",
       "    }\n",
       "</style>\n",
       "<table border=\"1\" class=\"dataframe\">\n",
       "  <thead>\n",
       "    <tr style=\"text-align: right;\">\n",
       "      <th></th>\n",
       "      <th>FSTEMIB</th>\n",
       "      <th>CAC 40</th>\n",
       "      <th>DAX</th>\n",
       "      <th>IBEX</th>\n",
       "    </tr>\n",
       "  </thead>\n",
       "  <tbody>\n",
       "    <tr>\n",
       "      <th>2001-01-08</th>\n",
       "      <td>4.807258e-01</td>\n",
       "      <td>0.066135</td>\n",
       "      <td>2.689400e-01</td>\n",
       "      <td>0.184199</td>\n",
       "    </tr>\n",
       "    <tr>\n",
       "      <th>2001-04-09</th>\n",
       "      <td>5.974600e-01</td>\n",
       "      <td>0.154159</td>\n",
       "      <td>5.959202e-02</td>\n",
       "      <td>0.188789</td>\n",
       "    </tr>\n",
       "    <tr>\n",
       "      <th>2001-07-09</th>\n",
       "      <td>6.243168e-01</td>\n",
       "      <td>0.241675</td>\n",
       "      <td>0.000000e+00</td>\n",
       "      <td>0.134008</td>\n",
       "    </tr>\n",
       "    <tr>\n",
       "      <th>2001-10-08</th>\n",
       "      <td>0.000000e+00</td>\n",
       "      <td>0.717226</td>\n",
       "      <td>1.106196e-16</td>\n",
       "      <td>0.282774</td>\n",
       "    </tr>\n",
       "    <tr>\n",
       "      <th>2002-01-07</th>\n",
       "      <td>1.387779e-17</td>\n",
       "      <td>0.672562</td>\n",
       "      <td>1.985007e-16</td>\n",
       "      <td>0.327438</td>\n",
       "    </tr>\n",
       "  </tbody>\n",
       "</table>\n",
       "</div>"
      ]
     },
     "execution_count": 5,
     "metadata": {},
     "output_type": "execute_result"
    }
   ],
   "source": [
    "sx5e = returns[[\"SX5E\"]]\n",
    "bch = returns.drop(\"SX5E\", axis=1)\n",
    "\n",
    "size = 52\n",
    "freq = 13\n",
    "bounds = (0,1)\n",
    "total_weight = 1\n",
    "\n",
    "df_weight = ols_regression(sx5e, bch, size, freq, boundaries=bounds, weight_sum=total_weight)\n",
    "df_weight.head()"
   ]
  },
  {
   "cell_type": "code",
   "execution_count": 6,
   "metadata": {},
   "outputs": [],
   "source": [
    "prices_for_track = prices.loc[df_weight.index[0]:].drop(\"SX5E\", axis=1)\n",
    "replication = make_track(prices_for_track, df_weight)\n",
    "\n",
    "df_res = prices.loc[replication.index][[\"SX5E\"]]\n",
    "df_res[\"OLS\"] = replication\n",
    "\n",
    "df_res = df_res / df_res.iloc[0]"
   ]
  },
  {
   "cell_type": "code",
   "execution_count": null,
   "metadata": {},
   "outputs": [],
   "source": [
    "df_res.plot(figsize=(12,6),linewidth=1)\n"
   ]
  }
 ],
 "metadata": {
  "kernelspec": {
   "display_name": "Python 3",
   "language": "python",
   "name": "python3"
  },
  "language_info": {
   "codemirror_mode": {
    "name": "ipython",
    "version": 3
   },
   "file_extension": ".py",
   "mimetype": "text/x-python",
   "name": "python",
   "nbconvert_exporter": "python",
   "pygments_lexer": "ipython3",
   "version": "3.5.0"
  }
 },
 "nbformat": 4,
 "nbformat_minor": 1
}
