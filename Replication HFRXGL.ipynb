{
 "cells": [
  {
   "cell_type": "code",
   "execution_count": 1,
   "metadata": {},
   "outputs": [],
   "source": [
    "%load_ext autoreload\n",
    "%autoreload 2\n",
    "%matplotlib inline"
   ]
  },
  {
   "cell_type": "code",
   "execution_count": 2,
   "metadata": {},
   "outputs": [
    {
     "ename": "ImportError",
     "evalue": "cannot import name 'replication_stats'",
     "output_type": "error",
     "traceback": [
      "\u001b[1;31m---------------------------------------------------------------------------\u001b[0m",
      "\u001b[1;31mImportError\u001b[0m                               Traceback (most recent call last)",
      "\u001b[1;32m<ipython-input-2-1b5c71d4bc20>\u001b[0m in \u001b[0;36m<module>\u001b[1;34m()\u001b[0m\n\u001b[0;32m      9\u001b[0m \u001b[1;33m\u001b[0m\u001b[0m\n\u001b[0;32m     10\u001b[0m \u001b[1;32mfrom\u001b[0m \u001b[0mIPython\u001b[0m\u001b[1;33m.\u001b[0m\u001b[0mdisplay\u001b[0m \u001b[1;32mimport\u001b[0m \u001b[0mdisplay\u001b[0m\u001b[1;33m\u001b[0m\u001b[0m\n\u001b[1;32m---> 11\u001b[1;33m \u001b[1;32mfrom\u001b[0m \u001b[0mtools\u001b[0m \u001b[1;32mimport\u001b[0m \u001b[0mmake_track\u001b[0m\u001b[1;33m,\u001b[0m \u001b[0mols_regression\u001b[0m\u001b[1;33m,\u001b[0m \u001b[0mmake_ER\u001b[0m\u001b[1;33m,\u001b[0m \u001b[0mlasso_regression\u001b[0m\u001b[1;33m,\u001b[0m \u001b[0mlasso_regression_ic\u001b[0m\u001b[1;33m,\u001b[0m \u001b[0mridge_regression\u001b[0m\u001b[1;33m,\u001b[0m    \u001b[0mkalman_filter\u001b[0m\u001b[1;33m,\u001b[0m \u001b[0mkalman_with_selection\u001b[0m\u001b[1;33m,\u001b[0m \u001b[0mreplication_stats\u001b[0m\u001b[1;33m\u001b[0m\u001b[0m\n\u001b[0m\u001b[0;32m     12\u001b[0m \u001b[1;32mfrom\u001b[0m \u001b[0mhc_graph\u001b[0m \u001b[1;32mimport\u001b[0m \u001b[0mhc_stock\u001b[0m\u001b[1;33m,\u001b[0m \u001b[0mhc_piechart\u001b[0m\u001b[1;33m,\u001b[0m \u001b[0mhc_spiderweb\u001b[0m\u001b[1;33m\u001b[0m\u001b[0m\n",
      "\u001b[1;31mImportError\u001b[0m: cannot import name 'replication_stats'"
     ]
    }
   ],
   "source": [
    "import pandas as pd\n",
    "import numpy as np\n",
    "import datetime as dt\n",
    "import seaborn as sns\n",
    "import matplotlib.pyplot as plt\n",
    "from scipy.stats import norm\n",
    "\n",
    "sns.set()\n",
    "\n",
    "from IPython.display import display\n",
    "from tools import make_track, ols_regression, make_ER, lasso_regression, lasso_regression_ic, ridge_regression,\\\n",
    "    kalman_filter, kalman_with_selection, replication_stats\n",
    "from hc_graph import hc_stock, hc_piechart, hc_spiderweb"
   ]
  },
  {
   "cell_type": "code",
   "execution_count": null,
   "metadata": {
    "scrolled": true
   },
   "outputs": [],
   "source": [
    "fund_name = 'HFRXGL'\n",
    "pd.read_csv(r\"financial_data/hfrx_index_names.csv\", index_col=0)"
   ]
  },
  {
   "cell_type": "markdown",
   "metadata": {},
   "source": [
    "### Financial data loads and cleaning"
   ]
  },
  {
   "cell_type": "code",
   "execution_count": null,
   "metadata": {},
   "outputs": [],
   "source": [
    "# US rate\n",
    "US_rate = pd.read_csv(r\"financial_data/USD_rates.csv\", index_col=0, parse_dates=True, dayfirst=True)['3M']\n",
    "\n",
    "# HFRX\n",
    "hfrx_all = pd.read_csv(r\"financial_data/hfrx_daily_index_data.csv\", index_col=0, parse_dates=True, dayfirst=True).ffill()\n",
    "hfrx = make_ER(hfrx_all[[fund_name]].dropna(), US_rate)\n",
    "\n",
    "# BNP\n",
    "\n",
    "bnp = pd.read_csv(r\"financial_data/bnp_data.csv\", index_col=0, parse_dates=True, dayfirst=True) #[[\"BNPIFEU\",\"BNPIFUS\",\n",
    "                 #\"BNPIFJP\",\"BNPIFCN\",\"BNPIFFR\",\"BNPIFGE\",\"BNPIFGB\",\"BNPIFCH\",\"BNPIFKR\",\"BNPIFUSC\",\"BNPIFBR\",\n",
    "                 #\"BNPIFAU\",\"BNPIFHK\",\"BNPIFTW\",\"BNPIFSG\",\"BNPIFIT\",\"BNPIFSP\",\"BNPIFSW\",\"BNPIFNE\",\"BNPIFRU\",\"BNPIFEM\"]]\n",
    "\n",
    "risk_premia = pd.read_pickle(\"financial_data/risk_premia_ER_FX_USD.pkl\") #[[\"BNPICCE3\",\"BNPIVMRU\",\"BNPIAIRT\",\"BNPIAIRU\",\n",
    "                  #\"BNPIEC03\",\"BNPIPLEE\",\"BNPIPMEE\",\"BNPIPQEE\",\"BNPIPVEE\",\"BNPILUEE\",\"BNPIPMUH\",\"BNPIPQUH\",\n",
    "                  #\"BNPIPVUH\",\"BNPIAIRG\",\"BNPIAIRJ\",\"BNPIAIRE\"]]"
   ]
  },
  {
   "cell_type": "code",
   "execution_count": null,
   "metadata": {},
   "outputs": [],
   "source": [
    "df_info = pd.read_csv(r\"financial_data/bnp_info.csv\", index_col=0)\n",
    "df_info.head()"
   ]
  },
  {
   "cell_type": "code",
   "execution_count": null,
   "metadata": {},
   "outputs": [],
   "source": [
    "prices_all = bnp.join(risk_premia,how=\"outer\").ffill().join(hfrx,how=\"inner\")"
   ]
  },
  {
   "cell_type": "code",
   "execution_count": null,
   "metadata": {
    "scrolled": false
   },
   "outputs": [],
   "source": [
    "returns_all = prices_all.resample('1D').first().pct_change().dropna()\n",
    "hrfx_returns = returns_all[[fund_name]]\n",
    "returns_all = returns_all.drop(fund_name, axis=1)\n",
    "prices_all = prices_all.drop(fund_name, axis=1)"
   ]
  },
  {
   "cell_type": "code",
   "execution_count": null,
   "metadata": {},
   "outputs": [],
   "source": [
    "alpha = hrfx_returns[fund_name].autocorr(lag=1)\n",
    "hrfx_returns_adj = ((hrfx_returns - alpha * hrfx_returns.shift(1)) / (1. - alpha)).fillna(0) # 'liquidity adjustment' for\n",
    "                                                                                             # removing returns autocorrelation\n",
    "beta = hrfx_returns_adj[fund_name].autocorr(lag=1)"
   ]
  },
  {
   "cell_type": "code",
   "execution_count": null,
   "metadata": {},
   "outputs": [],
   "source": [
    "print(\"Auto-correlation of\",fund_name,\"returns :\", alpha)\n",
    "print(\"Auto-correlation of\",fund_name,\"adjusted returns :\", beta)\n",
    "ax = (1 + hrfx_returns).cumprod().plot()\n",
    "_ = (1 + hrfx_returns_adj).cumprod()[fund_name].plot(label=fund_name + ' adjusted', legend=True, ax=ax)"
   ]
  },
  {
   "cell_type": "code",
   "execution_count": null,
   "metadata": {},
   "outputs": [],
   "source": [
    "size = 126\n",
    "freq = 5"
   ]
  },
  {
   "cell_type": "code",
   "execution_count": null,
   "metadata": {},
   "outputs": [],
   "source": [
    "%%time\n",
    "df_weight_aic, _ = lasso_regression_ic(hrfx_returns, returns_all,sample_length=size, frequency=freq, criterion='aic')\n",
    "prices_for_track_aic = prices_all.loc[df_weight_aic.index[0]:]"
   ]
  },
  {
   "cell_type": "code",
   "execution_count": null,
   "metadata": {},
   "outputs": [],
   "source": [
    "%%time\n",
    "df_weight_bic, _ = lasso_regression_ic(hrfx_returns, returns_all,sample_length=size, frequency=freq, criterion='bic')\n",
    "prices_for_track_bic = prices_all.loc[df_weight_bic.index[0]:]"
   ]
  },
  {
   "cell_type": "code",
   "execution_count": null,
   "metadata": {},
   "outputs": [],
   "source": [
    "%%time\n",
    "nu = 1.\n",
    "df_weight_kalman = kalman_filter(hrfx_returns, returns_all,freq, sigma_weight=1. , sigma_return=nu)\n",
    "\n",
    "prices_for_track_kalman = prices_all.loc[df_weight_kalman.index[0]:]"
   ]
  },
  {
   "cell_type": "code",
   "execution_count": null,
   "metadata": {},
   "outputs": [],
   "source": [
    "%%time\n",
    "nb_period = 120\n",
    "df_weight_kalman_bic = kalman_with_selection(hrfx_returns, returns_all,sample_length=size, frequency=freq,\\\n",
    "                                          nu=nu, nb_period=nb_period, criterion='bic')\n",
    "\n",
    "prices_for_track_kalman_bic = prices_all.loc[df_weight_kalman_bic.index[0]:]"
   ]
  },
  {
   "cell_type": "code",
   "execution_count": null,
   "metadata": {},
   "outputs": [],
   "source": [
    "%%time\n",
    "df_weight_kalman_aic = kalman_with_selection(hrfx_returns, returns_all,sample_length=size, frequency=freq,\\\n",
    "                                          nu=nu, nb_period=nb_period, criterion='aic')\n",
    "\n",
    "prices_for_track_kalman_aic = prices_all.loc[df_weight_kalman_aic.index[0]:]"
   ]
  },
  {
   "cell_type": "code",
   "execution_count": null,
   "metadata": {},
   "outputs": [],
   "source": [
    "tc = 0.0003\n",
    "lag = 1\n",
    "\n",
    "replication_aic = make_track(prices_for_track_aic, df_weight_aic, tc=tc, lag=lag)\n",
    "df_res = hfrx.loc[replication_aic.index]\n",
    "df_res[\"Lasso AIC\"] = replication_aic\n",
    "\n",
    "replication_bic = make_track(prices_for_track_bic, df_weight_bic, tc=tc, lag=lag)\n",
    "df_res[\"Lasso BIC\"] = replication_bic\n",
    "\n",
    "replication_kalman = make_track(prices_for_track_kalman, df_weight_kalman, tc=tc, lag=lag).loc[df_res.index[0]:]\n",
    "df_res[\"Kalman\"] = replication_kalman\n",
    "\n",
    "replication_kalman_aic = make_track(prices_for_track_kalman_aic, df_weight_kalman_aic, tc=tc, lag=lag).loc[df_res.index[0]:]\n",
    "df_res[\"Kalman AIC\"] = replication_kalman_aic\n",
    "\n",
    "replication_kalman_bic = make_track(prices_for_track_kalman_bic, df_weight_kalman_bic, tc=tc, lag=lag).loc[df_res.index[0]:]\n",
    "df_res[\"Kalman BIC\"] = replication_kalman_bic"
   ]
  },
  {
   "cell_type": "code",
   "execution_count": null,
   "metadata": {},
   "outputs": [],
   "source": [
    "df_res = (df_res / df_res.iloc[0])\n",
    "df_res[[fund_name, 'Kalman', 'Kalman BIC', 'Kalman AIC']].plot(figsize=(20,10))"
   ]
  },
  {
   "cell_type": "code",
   "execution_count": null,
   "metadata": {},
   "outputs": [],
   "source": [
    "df_stat = replication_stats(df_res, fund_name=fund_name)\n",
    "df_stat"
   ]
  },
  {
   "cell_type": "code",
   "execution_count": null,
   "metadata": {},
   "outputs": [],
   "source": [
    "vol = df_res.pct_change().rolling(window=60).std().dropna()\n",
    "vol[[fund_name, 'Kalman', 'Kalman BIC', 'Kalman AIC']].plot(figsize=(20,10))"
   ]
  },
  {
   "cell_type": "code",
   "execution_count": null,
   "metadata": {},
   "outputs": [],
   "source": [
    "vol_fund = vol[fund_name]\n",
    "vol_ratio = 1. / vol.div(vol_fund, axis='index').drop(fund_name, axis=1)\n",
    "vol_ratio[['Kalman', 'Kalman BIC', 'Kalman AIC']].plot(figsize=(20,10))"
   ]
  },
  {
   "cell_type": "markdown",
   "metadata": {},
   "source": [
    "### Vol adjustment"
   ]
  },
  {
   "cell_type": "code",
   "execution_count": null,
   "metadata": {},
   "outputs": [],
   "source": [
    "df_weight_kalman_aic_voladj = df_weight_kalman_aic.multiply(vol_ratio['Kalman AIC'], axis='index').dropna()\n",
    "df_weight_kalman_bic_voladj = df_weight_kalman_bic.multiply(vol_ratio['Kalman BIC'], axis='index').dropna()\n",
    "df_weight_kalman_voladj = df_weight_kalman.multiply(vol_ratio['Kalman'], axis='index').dropna()\n",
    "\n",
    "prices_for_track_all = prices_for_track_aic[df_weight_aic.multiply(vol_ratio['Lasso AIC'], axis='index').dropna().index[0]:]\n",
    "\n",
    "replication_aic_voladj = make_track(prices_for_track_all, df_weight_aic.multiply(vol_ratio['Lasso AIC'], axis='index').dropna(), tc=tc, lag=lag)\n",
    "df_res_voladj = hfrx.loc[replication_aic_voladj.index]\n",
    "df_res_voladj[\"Lasso AIC\"] = replication_aic_voladj\n",
    "\n",
    "replication_bic_voladj = make_track(prices_for_track_all, df_weight_bic.multiply(vol_ratio['Lasso BIC'], axis='index').dropna(), tc=tc, lag=lag)\n",
    "df_res_voladj[\"Lasso BIC\"] = replication_bic_voladj\n",
    "\n",
    "prices_for_track_all = prices_for_track_kalman[df_weight_kalman.multiply(vol_ratio['Kalman'], axis='index').dropna().index[0]:]\n",
    "\n",
    "replication_kalman_voladj = make_track(prices_for_track_all, df_weight_kalman_voladj, tc=tc, lag=lag).loc[df_res_voladj.index[0]:]\n",
    "df_res_voladj[\"Kalman\"] = replication_kalman_voladj\n",
    "\n",
    "prices_for_track_all = prices_for_track_kalman_aic[df_weight_kalman_aic.multiply(vol_ratio['Kalman AIC'], axis='index').dropna().index[0]:]\n",
    "\n",
    "replication_kalman_aic_voladj = make_track(prices_for_track_all, df_weight_kalman_aic_voladj, tc=tc, lag=lag).loc[df_res_voladj.index[0]:]\n",
    "df_res_voladj[\"Kalman AIC\"] = replication_kalman_aic_voladj\n",
    "\n",
    "replication_kalman_bic_voladj = make_track(prices_for_track_all,df_weight_kalman_bic_voladj, tc=tc, lag=lag).loc[df_res_voladj.index[0]:]\n",
    "df_res_voladj[\"Kalman BIC\"] = replication_kalman_bic_voladj"
   ]
  },
  {
   "cell_type": "code",
   "execution_count": null,
   "metadata": {},
   "outputs": [],
   "source": [
    "df_res_voladj = df_res_voladj.bfill()\n",
    "df_res_voladj = (df_res_voladj / df_res_voladj.iloc[0])\n",
    "df_res_voladj[[fund_name, 'Kalman', 'Kalman BIC', 'Kalman AIC']].plot(figsize=(20,10))"
   ]
  },
  {
   "cell_type": "code",
   "execution_count": null,
   "metadata": {},
   "outputs": [],
   "source": [
    "df_res_volperfadj = df_res_voladj[[fund_name]].copy()\n",
    "temp = df_res_voladj.drop(fund_name, axis=1)\n",
    "df_res_volperfadj[temp.columns]= make_ER(temp, 1.75 + 0 * US_rate)\n",
    "df_res_volperfadj[[fund_name, 'Kalman', 'Kalman BIC', 'Kalman AIC']].plot(figsize=(20,10))"
   ]
  },
  {
   "cell_type": "markdown",
   "metadata": {},
   "source": [
    "## Statistics on replication"
   ]
  },
  {
   "cell_type": "code",
   "execution_count": null,
   "metadata": {},
   "outputs": [],
   "source": [
    "df_stat_vol = replication_stats(df_res_voladj, fund_name=fund_name)\n",
    "df_stat_vol"
   ]
  },
  {
   "cell_type": "code",
   "execution_count": null,
   "metadata": {},
   "outputs": [],
   "source": [
    "df_contrib_kalman_voladj = (prices_all.reindex(df_weight_kalman_voladj.index).pct_change()*df_weight_kalman_voladj).std()\n",
    "df_contrib_kalman_voladj = 100*df_contrib_kalman_voladj/df_contrib_kalman_voladj.sum()\n",
    "\n",
    "df_contrib_kalman_bic_voladj = (prices_all.reindex(df_weight_kalman_bic_voladj.index).pct_change()*df_weight_kalman_bic_voladj).std()\n",
    "df_contrib_kalman_bic_voladj = 100*df_contrib_kalman_bic_voladj/df_contrib_kalman_bic_voladj.sum()\n",
    "\n",
    "df_contrib_kalman_aic_voladj = (prices_all.reindex(df_weight_kalman_aic_voladj.index).pct_change()*df_weight_kalman_aic_voladj).std()\n",
    "df_contrib_kalman_aic_voladj = 100*df_contrib_kalman_aic_voladj/df_contrib_kalman_aic_voladj.sum()"
   ]
  },
  {
   "cell_type": "code",
   "execution_count": null,
   "metadata": {},
   "outputs": [],
   "source": [
    "df_contrib = pd.DataFrame()\n",
    "df_contrib[\"Kalman\"] = df_contrib_kalman_voladj\n",
    "df_contrib[\"Kalman BIC\"] = df_contrib_kalman_bic_voladj\n",
    "df_contrib[\"Kalman AIC\"] = df_contrib_kalman_aic_voladj\n",
    "df_contrib = df_contrib.join(df_info).reset_index()"
   ]
  },
  {
   "cell_type": "code",
   "execution_count": null,
   "metadata": {},
   "outputs": [],
   "source": [
    "df_contrib_asset_class = df_contrib.drop([\"Style\"],axis=1).groupby([\"Asset Class\",\"index\"]).sum()\n",
    "df_contrib_style = df_contrib.drop([\"Asset Class\"],axis=1).groupby([\"Style\",\"index\"]).sum()"
   ]
  },
  {
   "cell_type": "code",
   "execution_count": null,
   "metadata": {},
   "outputs": [],
   "source": [
    "g = hc_spiderweb(df_contrib_asset_class, title=\"Vol contribution by Asset Class\")\n",
    "g.plot()"
   ]
  },
  {
   "cell_type": "code",
   "execution_count": null,
   "metadata": {},
   "outputs": [],
   "source": [
    "g = hc_spiderweb(df_contrib_style, title=\"Vol contribution by Style\")\n",
    "g.plot()"
   ]
  },
  {
   "cell_type": "code",
   "execution_count": null,
   "metadata": {},
   "outputs": [],
   "source": [
    "g = hc_piechart(df_contrib_asset_class[[\"Kalman\"]], title=\"Vol contribution by Asset Class in Kalman\")\n",
    "g.plot()"
   ]
  },
  {
   "cell_type": "code",
   "execution_count": null,
   "metadata": {},
   "outputs": [],
   "source": [
    "g = hc_piechart(df_contrib_style[[\"Kalman\"]], title=\"Vol contribution by Style in Kalman\")\n",
    "g.plot()"
   ]
  },
  {
   "cell_type": "code",
   "execution_count": null,
   "metadata": {},
   "outputs": [],
   "source": [
    "df_contrib_kalman_voladj.plot(kind='barh', figsize=(15,20), cmap=\"tab10\")"
   ]
  },
  {
   "cell_type": "code",
   "execution_count": null,
   "metadata": {},
   "outputs": [],
   "source": [
    "(df_weight_aic).mean(axis=0).plot(kind='barh', figsize=(15,20))"
   ]
  },
  {
   "cell_type": "code",
   "execution_count": null,
   "metadata": {},
   "outputs": [],
   "source": [
    "(df_weight_bic).mean(axis=0).plot(kind='barh', figsize=(15,20))"
   ]
  },
  {
   "cell_type": "code",
   "execution_count": null,
   "metadata": {},
   "outputs": [],
   "source": [
    "df_weight_kalman.loc[df_res.index[0]:].mean(axis=0).plot(kind='barh', figsize=(15,20))"
   ]
  },
  {
   "cell_type": "code",
   "execution_count": null,
   "metadata": {},
   "outputs": [],
   "source": [
    "df_weight_kalman_bic.loc[df_res.index[0]:].mean(axis=0).plot(kind='barh', figsize=(15,20))"
   ]
  },
  {
   "cell_type": "code",
   "execution_count": null,
   "metadata": {},
   "outputs": [],
   "source": [
    "df_weight_kalman_aic.loc[df_res.index[0]:].mean(axis=0).plot(kind='barh', figsize=(15,20))"
   ]
  },
  {
   "cell_type": "code",
   "execution_count": null,
   "metadata": {},
   "outputs": [],
   "source": [
    "limit = 60\n",
    "df_autocorr = pd.DataFrame(data=[df_res.drop([\"Lasso AIC\",\"Lasso BIC\"],axis=1)\\\n",
    "                                 .pct_change().apply(lambda col : col.autocorr(lag=i)) for i in range(1,limit)])\n",
    "df_autocorr[r\"$2/\\sqrt{n}$\"] = [2/np.sqrt(len(df_res)-i) for i in range(1,limit)]\n",
    "df_autocorr[r\"$-2/\\sqrt{n}$\"] = [-2/np.sqrt(len(df_res)-i) for i in range(1,limit)]"
   ]
  },
  {
   "cell_type": "code",
   "execution_count": null,
   "metadata": {},
   "outputs": [],
   "source": [
    "df_autocorr.plot(figsize=(14,7))"
   ]
  },
  {
   "cell_type": "code",
   "execution_count": null,
   "metadata": {},
   "outputs": [],
   "source": [
    "df_res[fund_name].pct_change().autocorr(lag=1)"
   ]
  },
  {
   "cell_type": "code",
   "execution_count": null,
   "metadata": {},
   "outputs": [],
   "source": [
    "df_res['Kalman'].pct_change().autocorr(lag=1)"
   ]
  },
  {
   "cell_type": "code",
   "execution_count": null,
   "metadata": {},
   "outputs": [],
   "source": [
    "df_res['Kalman BIC'].pct_change().autocorr(lag=1)"
   ]
  },
  {
   "cell_type": "code",
   "execution_count": null,
   "metadata": {},
   "outputs": [],
   "source": [
    "df_res['Kalman AIC'].pct_change().autocorr(lag=1)"
   ]
  },
  {
   "cell_type": "code",
   "execution_count": null,
   "metadata": {},
   "outputs": [],
   "source": [
    "df_res['Lasso AIC'].pct_change().autocorr(lag=1)"
   ]
  },
  {
   "cell_type": "code",
   "execution_count": null,
   "metadata": {},
   "outputs": [],
   "source": []
  }
 ],
 "metadata": {
  "anaconda-cloud": {},
  "kernelspec": {
   "display_name": "Python 3",
   "language": "python",
   "name": "python3"
  },
  "language_info": {
   "codemirror_mode": {
    "name": "ipython",
    "version": 3
   },
   "file_extension": ".py",
   "mimetype": "text/x-python",
   "name": "python",
   "nbconvert_exporter": "python",
   "pygments_lexer": "ipython3",
   "version": "3.6.3"
  }
 },
 "nbformat": 4,
 "nbformat_minor": 1
}
